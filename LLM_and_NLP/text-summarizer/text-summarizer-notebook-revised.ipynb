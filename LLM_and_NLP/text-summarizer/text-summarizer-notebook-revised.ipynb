{
 "cells": [
  {
   "cell_type": "code",
   "execution_count": 2,
   "id": "032b8f61",
   "metadata": {},
   "outputs": [],
   "source": [
    "\n",
    "from text_summarizer_revised import generate_summary"
   ]
  },
  {
   "cell_type": "code",
   "execution_count": 3,
   "id": "0ee3a6db",
   "metadata": {},
   "outputs": [
    {
     "name": "stdout",
     "output_type": "stream",
     "text": [
      "In an attempt to build an AI ready workforce Microsoft announced Intelligent Cloud Hub which has been launched to empower the next generation of students with AI ready skills. Envisioned as a three year collaborative program Intelligent Cloud Hub will support around institutions with AI infrastructure course content and curriculum developer support development tools and give students access to cloud and AI services. The company will provide AI development tools and Azure AI services such as Microsoft Cognitive Services Bot Services and Azure Machine Learning According to Manish Prakash Country General Manager PS Health and Education Microsoft India said With AI being the defining technology of our time it is transforming lives and industry and the jobs of tomorrow will require a different skillset. Earlier in April this year the company announced Microsoft Professional Program In AI as a learning track open to the public. As part of the program the Redmond giant which wants to expand its reach and is planning to build a strong developer ecosystem in India with the program will set up the core AI infrastructure and IoT Hub for the selected campuses.\n"
     ]
    }
   ],
   "source": [
    "file_path = 'msft.txt'\n",
    "summary = generate_summary(file_path, top_n=5)\n",
    "print(summary)"
   ]
  },
  {
   "cell_type": "code",
   "execution_count": 4,
   "id": "ec679e18",
   "metadata": {},
   "outputs": [
    {
     "name": "stdout",
     "output_type": "stream",
     "text": [
      "For years Facebook gave some of the world s largest technology companies more intrusive access to users personal data than it has disclosed effectively exempting those business partners from its usual privacy rules according to internal records and interviews. The special arrangements are detailed in hundreds of pages of Facebook documents obtained by The New York Times. Facebook users connected with friends across different devices and websites. Pushing for explosive growth Facebook got more users lifting its advertising revenue. The records generated in by the company s internal system for tracking partnerships provide the most complete picture yet of the social network s data sharing practices.\n"
     ]
    }
   ],
   "source": [
    "file_path = 'fb.txt'\n",
    "summary = generate_summary(file_path, top_n=5)\n",
    "print(summary)"
   ]
  },
  {
   "cell_type": "code",
   "execution_count": 5,
   "id": "ed30373a",
   "metadata": {},
   "outputs": [
    {
     "name": "stdout",
     "output_type": "stream",
     "text": [
      "WASHINGTON The Trump administration has ordered the military to start withdrawing roughly troops from Afghanistan in the coming months two defense officials said Thursday an abrupt shift in the year old war there and a decision that stunned Afghan officials who said they had not been briefed on the plans President Trump made the decision to pull the troops about half the number the United States has in Afghanistan now at the same time he decided to pull American forces out of Syria one official said The announcement came hours after Jim Mattis the secretary of defense said that he would resign from his position at the end of February after disagreeing with the president over his approach to policy in the Middle East The whirlwind of troop withdrawals and the resignation of Mr. Mattis he begrudgingly pledged an additional troops to the Afghan campaign to try to hasten an end to the conflict Though Pentagon officials have said the influx of forces coupled with a more aggressive air campaign was helping the war effort Afghan forces continued to take nearly unsustainable levels of casualties and lose ground to the Taliban The renewed American effort in was the first step in ensuring Afghan forces could become more independent without a set timeline for a withdrawal. Trump might take impulsive actions however often loomed in the background of discussions with the United States they said They saw the abrupt decision as a further sign that voices from the ground were lacking in the debate over the war and that with Mr. Mattis s resignation Afghanistan had lost one of the last influential voices in Washington who channeled the reality of the conflict into the White House s deliberations The president long campaigned on bringing troops home but in at the request of Mr. The United States has also been conducting talks with representatives of the Taliban in what officials have described as discussions that could lead to formal talks to end the conflict Senior Afghan officials and Western diplomats in Kabul woke up to the shock of the news on Friday morning and many of them braced for chaos ahead.\n"
     ]
    }
   ],
   "source": [
    "file_path = 'trump.txt'\n",
    "summary = generate_summary(file_path, top_n=5)\n",
    "print(summary)"
   ]
  },
  {
   "cell_type": "code",
   "execution_count": null,
   "id": "a80785b0",
   "metadata": {},
   "outputs": [],
   "source": []
  }
 ],
 "metadata": {
  "kernelspec": {
   "display_name": "base",
   "language": "python",
   "name": "python3"
  },
  "language_info": {
   "codemirror_mode": {
    "name": "ipython",
    "version": 3
   },
   "file_extension": ".py",
   "mimetype": "text/x-python",
   "name": "python",
   "nbconvert_exporter": "python",
   "pygments_lexer": "ipython3",
   "version": "3.9.12"
  }
 },
 "nbformat": 4,
 "nbformat_minor": 5
}
